{
 "cells": [
  {
   "cell_type": "code",
   "execution_count": 1,
   "metadata": {},
   "outputs": [
    {
     "name": "stdout",
     "output_type": "stream",
     "text": [
      "Enter the first number=8\n",
      "Enter the second number=90\n",
      "Enter the third number=69\n",
      "Largest Number= 90\n"
     ]
    }
   ],
   "source": [
    "#Python program to find Max of three Numbers\n",
    "\n",
    "a=int(input(\"Enter the first number=\"))\n",
    "b=int(input(\"Enter the second number=\"))\n",
    "c=int(input(\"Enter the third number=\"))\n",
    "if (a >= b) and (a >= c): \n",
    "        largest = a \n",
    "  \n",
    "elif (b >= a) and (b >= c): \n",
    "        largest = b    \n",
    "else: \n",
    "        largest = c \n",
    "          \n",
    "print(\"Largest Number=\",largest) \n",
    "  "
   ]
  },
  {
   "cell_type": "code",
   "execution_count": 2,
   "metadata": {},
   "outputs": [
    {
     "name": "stdout",
     "output_type": "stream",
     "text": [
      "Given String:  Python Program\n",
      "Reversed String:  margorP nohtyP\n"
     ]
    }
   ],
   "source": [
    "#Python program to reverse a string\n",
    "\n",
    "mystr = \"Python Program\"\n",
    "print(\"Given String: \", mystr)\n",
    "s = \"\"\n",
    "for ch in mystr:\n",
    "        s = ch + s\n",
    "print(\"Reversed String: \", s)"
   ]
  },
  {
   "cell_type": "code",
   "execution_count": 3,
   "metadata": {},
   "outputs": [
    {
     "name": "stdout",
     "output_type": "stream",
     "text": [
      "Enter a number: 7\n",
      "7 is a prime number\n"
     ]
    }
   ],
   "source": [
    "#Prime or Not\n",
    "\n",
    "num = int(input(\"Enter a number: \"))  \n",
    "  \n",
    "if num > 1:  \n",
    "   for i in range(2,num):  \n",
    "       if (num % i) == 0:  \n",
    "           print(num,\"is not a prime number\")  \n",
    "           break  \n",
    "   else:  \n",
    "       print(num,\"is a prime number\")  \n",
    "         \n",
    "else:  \n",
    "   print(num,\"is not a prime number\")  "
   ]
  },
  {
   "cell_type": "code",
   "execution_count": 4,
   "metadata": {},
   "outputs": [
    {
     "name": "stdout",
     "output_type": "stream",
     "text": [
      "Enter the number=4554\n",
      "The number is a palindrome!\n"
     ]
    }
   ],
   "source": [
    "#Palindrome or not\n",
    "\n",
    "n=int(input(\"Enter the number=\"))\n",
    "temp=n\n",
    "rev=0\n",
    "while(n>0):\n",
    "    dig=n%10\n",
    "    rev=rev*10+dig\n",
    "    n=n//10\n",
    "if(temp==rev):\n",
    "    print(\"The number is a palindrome!\")\n",
    "else:\n",
    "     print(\"The number is not palindrome = \");"
   ]
  },
  {
   "cell_type": "code",
   "execution_count": 6,
   "metadata": {},
   "outputs": [
    {
     "name": "stdout",
     "output_type": "stream",
     "text": [
      "Enter the n value=4\n",
      "The sum of squares of n natural numbers= 30\n"
     ]
    }
   ],
   "source": [
    "#program to print sum of squares of n natural numbers\n",
    "\n",
    "n=int(input(\"Enter the n value=\"))\n",
    "sm = 0\n",
    "for i in range(1, n+1) :\n",
    "      sm = sm + pow(i,2)\n",
    "print(\"The sum of squares of n natural numbers=\",sm)\n"
   ]
  },
  {
   "cell_type": "code",
   "execution_count": null,
   "metadata": {},
   "outputs": [],
   "source": []
  }
 ],
 "metadata": {
  "kernelspec": {
   "display_name": "Python 3",
   "language": "python",
   "name": "python3"
  },
  "language_info": {
   "codemirror_mode": {
    "name": "ipython",
    "version": 3
   },
   "file_extension": ".py",
   "mimetype": "text/x-python",
   "name": "python",
   "nbconvert_exporter": "python",
   "pygments_lexer": "ipython3",
   "version": "3.8.3"
  }
 },
 "nbformat": 4,
 "nbformat_minor": 4
}
